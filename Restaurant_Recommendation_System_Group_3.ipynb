{
 "cells": [
  {
   "cell_type": "markdown",
   "id": "ef4396f8",
   "metadata": {},
   "source": [
    "<h1 align=\"center\"> DSML Group Project by Group 3 </h1>\n",
    "\n",
    "<h1 align=\"center\"> Restaurant Based Recommendation System </h1>\n",
    "\n"
   ]
  },
  {
   "cell_type": "markdown",
   "id": "5a45acf3",
   "metadata": {},
   "source": [
    "<h3 align=\"center\"> Project Members </h3>\n",
    "\n",
    "<h4 align=\"center\"> 1. Sowjanya Tammali with Student ID: 12595711 </h4>\n",
    "<h4 align=\"center\"> 2. Faisal Irshad Dakhani with Student ID: 12586425 </h4>\n",
    "<h4 align=\"center\"> 3. Naga Sai Surya Prakash Reddy Kovvuri with Student ID: 12597919 </h4>\n",
    "<h4 align=\"center\"> 4. Divya Pulivarthy with Student ID: 12589827 </h4>"
   ]
  },
  {
   "cell_type": "markdown",
   "id": "2b106098",
   "metadata": {},
   "source": [
    "<h2 align=\"center\"> Abstract </h2>"
   ]
  },
  {
   "cell_type": "markdown",
   "id": "cddef882",
   "metadata": {},
   "source": [
    "**A) Introduction:**"
   ]
  },
  {
   "cell_type": "markdown",
   "id": "df722912",
   "metadata": {},
   "source": [
    "A recommender system is an effective way to help users to obtain personalized and helpful information as users nowadays are trying out multiple cuisines based on web applications or mobile-based applications recommendations. But there are numerous factors affecting the choice of restaurant for a user, such as geolocation, reviews, type of cuisine available, etc. \n",
    "\n",
    "\n",
    "In this paper, we propose a recommendation system that helps users adopt a restaurant based on their interests. The factors considered for this model are reviews, overall ratings, service ratings, food ratings, type of cuisine available, and budget. For this recommendation system, we can consider two models; one is Collaborative Filtering, and the other is a Content-based recommendation system.\n",
    "\n",
    "\n",
    "Here, our model primarily focuses on a Restaurant Recommendation system based on Collaborative filtering that effectively helps users find a restaurant of their choice.\n"
   ]
  },
  {
   "cell_type": "markdown",
   "id": "2f8b8bd6",
   "metadata": {},
   "source": [
    "**B) Literature Review:**"
   ]
  },
  {
   "cell_type": "markdown",
   "id": "1f4ac133",
   "metadata": {},
   "source": [
    "1. Blanca Vargas-Govea, Juan Gabriel GonzÃ¡lez-Serna, Rafael Ponce-MedellÃ­n. Effects of relevant contextual features in the performance of a restaurant recommender system, Workshop on Context Aware Recommender Systems (CARS-2011), Chicago, IL, USA, October 23, 2011.\n",
    "\n",
    "   https://www.researchgate.net/publication/248703303_Effects_of_relevant_contextual_features_in_the_performance_of_a_restaurant_recommender_system\n",
    "\n",
    "The above paper focuses on two topics: the importance of context and feature selection techniques in recommender systems.\n",
    "A Machine Learning model was developed to generate a top-n list of restaurants according to consumer preferences. Dataset Information: Two approaches were tested: a collaborative filter technique and a contextual approach. (i) The collaborative filter technique used only one file, i.e., rating_final.csv, that comprises the user, item, and rating attributes. (ii) The contextual approach generated the recommendations using the remaining eight data files."
   ]
  },
  {
   "cell_type": "markdown",
   "id": "7daaed90",
   "metadata": {},
   "source": [
    "2. Taufiq Ahmed, Lubna Akhter, Fazle Rabby Talukder, Hasan-Al-Monsur, Hasibur Rahman, Abdus Sattar, \"Restaurant Recommendation System in Dhaka City using Machine Learning Approach\"\n",
    "\n",
    "   https://ieeexplore.ieee.org/document/9676197\n",
    "\n",
    "In the paper mentioned above, the author mainly focused on developing a recommendation system for the city of Dhaka. The author briefly concentrated on data collection, processing, feature selection, algorithm building phases, Data Scaling, and model building. While in the model building, the author used a Weighted Based Score Calculation using the formula \n",
    "                \n",
    "                averagerating=[(R∗NR)+(RM∗NRQ)]/(NR+NRQ) \n",
    "where,\n",
    "R = ratings of a restaurant,\n",
    "NR = number of people who give ratings,\n",
    "RM = means of rating column, \n",
    "NRQ = 60% quantile of several ratings and \n",
    "averageprice=3/P,\n",
    "P = price of that restaurant where 1 = cheap, 2 = medium, 3 = expensive.\n",
    "\n",
    "After obtaining the score for every restaurant, the model could suggest the best restaurant according to the score."
   ]
  },
  {
   "cell_type": "markdown",
   "id": "eca6d8e1",
   "metadata": {},
   "source": [
    "3. Arun Tripathi; A.K. Sharma, \"Recommending Restaurants: A Collaborative Filtering Approach\", 2020 8th International Conference on Reliability, Infocom Technologies and Optimization (Trends and Future Directions) (ICRITO), Noida, India, 15 September 2020.\n",
    "\n",
    "   https://ieeexplore.ieee.org/document/9197946\n",
    "\n",
    "In the paper above mentioned, a restaurant recommender system is proposed. The similarity is calculated between the target user and others. Various attempts have been made using collaborative filtering models to predict the ratings between restaurants and ratings. The experiment is performed on the dataset taken from Yelp. The result obtained from the experiment reveal that both the user- and item-based SVM outperformed K-nearest neighbors."
   ]
  },
  {
   "cell_type": "markdown",
   "id": "1c0c40ff",
   "metadata": {},
   "source": [
    "**C) Research Question:**"
   ]
  },
  {
   "cell_type": "markdown",
   "id": "453add04",
   "metadata": {},
   "source": [
    "All the above three research papers focus mainly on developing a Restaurant Recommendation System using Machine Learning with restaurant features, including cuisines available, location, and user's preference of food.\n",
    "\n",
    "Our Project's main aim is to include users personal qualities and habits, such as parking lot preferences, mode of payment and drinking level, etc., to recommend restaurants along with the above-mentioned features. "
   ]
  },
  {
   "cell_type": "markdown",
   "id": "4071a66e",
   "metadata": {},
   "source": [
    "**D) Data:**"
   ]
  },
  {
   "cell_type": "markdown",
   "id": "389c59e0",
   "metadata": {},
   "source": [
    "i.\tThe dataset is obtained from the UCI machine learning repository. Then, we will link shared qualities with the data from many datasets to create a single dataset. Here is a description of how the data characteristics will contribute to creating a model.\n",
    "\n",
    "\n",
    "ii.\tChefmozaccepts is a dataset that describes the payment information of the customer, which in turn can be utilized to find any specific bank card offers on restaurants if the user is looking for the best offers on restaurants.\n",
    "\n",
    "iii.\tChefmozcuisine is a dataset that provides information about restaurant dishes, enabling us to identify the most popular or top-preferred dish among diners.\n",
    "\n",
    "iv.\tChefmozhours4 provides information on the restaurant's availability, allowing us to determine whether there is a peak period. Alternatively, top preferred dish by customers. \n",
    "\n",
    "v.\tgeoplaces2 has specific attributes whether the restaurant provides alcohol and smoking area zone. \n",
    "\n",
    "vi.\tchefmozparking gives information about parking spaces provided by the restaurant if the user is enquiring about the parking lot and its capacity. \n",
    "\n",
    "vii.\tUsing rating final, customers can find their preferred restaurant and meal based on the ratings given by previous visitors to those restaurants.\n",
    "\n",
    "viii.\tThe usercuisine dataset aids in identifying the user's favorite dish, while Userpayment identifies the user's preferred payment method.\n",
    "\n",
    "ix.\tThe userprofile dataset enables us to identify trends regarding user status, including their interests, drinking habits, and level.\n",
    "\n",
    "x.\tplaceid: refers to the location where the restaurant is located.\n",
    "\n",
    "xi.\tRpayment: gives information about which type of payment method is preferred by the restaurant.(debit/credit/cash) \n",
    "\n",
    "xii.\tRcuisine: gives information about different dishes served by the restaurant(Spanish, Mexican) \n",
    "\n",
    "xiii.\thours: Availability of restaurant timings. \n",
    "\n",
    "xiv.\tdays: availability of restaurant in days.  \n",
    "\n",
    "xv.\tParking_lot: describes whether the restaurant has parking space and the type of parking (free, public, or valet parking). \n",
    "\n",
    "xvi.\tname: specifies the name of the restaurant.  \n",
    "\n",
    "xvii.\tAddress: determines the address of the restaurant. \n",
    "\n",
    "xviii.\tAlcohol: gives information about whether the restaurant provides the alcohol or not. (NO _Alcohol, wine-Beer, full_bar).\n",
    "\n",
    "xix.\tSmoking_area: Specifies whether the restaurant is prohibited from smoking or not. \n",
    "\n",
    "xx.\tPrice: classified into medium, low, high \n",
    "\n",
    "xxi.\tOther_services: the restaurant can provide internet access or something special to other universities.  \n",
    "\n",
    "xxii.\tRating: gives overall view rating of the restaurant in the range of 0,1,2. \n",
    "\n",
    "xxiii.\tFood_rating: customers rate dishes in the range of 0,1,2.\n",
    "\n",
    "xxiv.\tService_rating: the rating given to the services offered by the restaurant. \n",
    "\n",
    "xxv.\tUpayment: describes whether a user has made a debit/credit/cash payment. \n",
    "\n",
    "xxvi.\tUserid: refers to the unique id given to the customer. \n",
    "\n",
    "xxvii.\tSmoker: describes whether the user smokes or not. (true, false). \n",
    "\n",
    "xxviii.\tDrink_level: categorized into levels like abstemious, social drinker, casual drinker \n",
    "\n",
    "xxix.\tInterest: determines what he/she likes \n",
    "\n",
    "xxx.\tThe datasets have all columns, which helps us identify user and restaurant patterns."
   ]
  },
  {
   "cell_type": "markdown",
   "id": "45591068",
   "metadata": {},
   "source": [
    "**Why is this Dataset appropriate for this project?**"
   ]
  },
  {
   "cell_type": "markdown",
   "id": "8b7c2fd0",
   "metadata": {},
   "source": [
    "This dataset has various columns defining the user characteristics and Restaurant features, allowing collaborative filtering-based restaurant recommendation systems to be more accurate and user-centered. Therefore, making these columns ideal for a data scientist to develop a model using the given columns with better accuracy."
   ]
  }
 ],
 "metadata": {
  "kernelspec": {
   "display_name": "Python 3 (ipykernel)",
   "language": "python",
   "name": "python3"
  },
  "language_info": {
   "codemirror_mode": {
    "name": "ipython",
    "version": 3
   },
   "file_extension": ".py",
   "mimetype": "text/x-python",
   "name": "python",
   "nbconvert_exporter": "python",
   "pygments_lexer": "ipython3",
   "version": "3.9.12"
  }
 },
 "nbformat": 4,
 "nbformat_minor": 5
}
